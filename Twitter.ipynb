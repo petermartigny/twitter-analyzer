{
 "cells": [
  {
   "cell_type": "markdown",
   "metadata": {},
   "source": [
    "#### In this notebook, we show how to simply grab tweets from Twitter and use sentiment analysis with TextBlob"
   ]
  },
  {
   "cell_type": "code",
   "execution_count": 41,
   "metadata": {
    "collapsed": false
   },
   "outputs": [],
   "source": [
    "import tweepy\n",
    "from textblob import TextBlob\n",
    "from textblob_fr import PatternTagger, PatternAnalyzer ## French adaptor\n",
    "import numpy as np\n",
    "import pandas as pd"
   ]
  },
  {
   "cell_type": "code",
   "execution_count": 60,
   "metadata": {
    "collapsed": true
   },
   "outputs": [],
   "source": [
    "## Use user keys & tokens\n",
    "consumer_key = \n",
    "consumer_secret = \n",
    "\n",
    "access_token = \n",
    "access_token_secret = \n",
    "\n",
    "## Authentification\n",
    "auth = tweepy.OAuthHandler(consumer_key, consumer_secret)\n",
    "auth.set_access_token(access_token, access_token_secret)\n",
    "\n",
    "api = tweepy.API(auth)"
   ]
  },
  {
   "cell_type": "code",
   "execution_count": 61,
   "metadata": {
    "collapsed": true
   },
   "outputs": [],
   "source": [
    "## Prepare a function to simply get a global sentiment\n",
    "def get_label(analysis, threshold = 0):\n",
    "    if analysis.sentiment[0] > threshold:\n",
    "        return 'Positive'\n",
    "    elif analysis.sentiment[0] == threshold:\n",
    "        return 'Neutral'\n",
    "    else:\n",
    "        return 'Negative'"
   ]
  },
  {
   "cell_type": "markdown",
   "metadata": {},
   "source": [
    "#### Let's begin the query, with a function that outputs the average sentiment score, the minimum and maximum scores and the related tweets"
   ]
  },
  {
   "cell_type": "code",
   "execution_count": 90,
   "metadata": {
    "collapsed": false
   },
   "outputs": [],
   "source": [
    "## Provide starting and final dates\n",
    "since_date = \"2016-10-15\"\n",
    "until_date = \"2016-10-25\"\n",
    "\n",
    "## Select tweets containing your query, specifying the number you want and the dates range\n",
    "\n",
    "def get_tweets(query, count):\n",
    "    \n",
    "    public_tweets = api.search(query, count = count, since = since_date, until = until_date)\n",
    "\n",
    "    polarity = []\n",
    "    result = []\n",
    "    for tweet in public_tweets:\n",
    "        #print(tweet.text)\n",
    "        analysis = TextBlob(tweet.text, pos_tagger=PatternTagger()\n",
    "                            , analyzer=PatternAnalyzer())\n",
    "        polarity.append(analysis.sentiment[0])\n",
    "        result.append([tweet.text, get_label(analysis), analysis.sentiment[0]])\n",
    "    return pd.DataFrame(result, columns = ['Tweet', 'Sentiment', 'Figure'])"
   ]
  },
  {
   "cell_type": "code",
   "execution_count": 95,
   "metadata": {
    "collapsed": true
   },
   "outputs": [],
   "source": [
    "candidates_list = ['Macron', \"Hollande\", \"Sarkozy\", \"Mélenchon\", \"Lepen\", \"Bayrou\", \"Duflot\", \"Copé\", \"Lesquen\"]"
   ]
  },
  {
   "cell_type": "code",
   "execution_count": 107,
   "metadata": {
    "collapsed": false
   },
   "outputs": [
    {
     "name": "stdout",
     "output_type": "stream",
     "text": [
      "Macron\n",
      "0.41\n",
      "Average score:  0.05089718749999998\n",
      "Max score:  1.0\n",
      "Min score:  -1.0\n",
      "Max tweet:  Avoir de l'empathie c'est la plus belle marque d'intelligence ce qu'est dénué le #FN #Hollande #Valls #Macron #Sarkozy #cope #Cazeneuve\n",
      "Min tweet:  Après les cars #Macron, voici les cars #Cazeneuve.\n",
      "Moi qui prenais #Hollande pour la moitié d'un imbécile, je me tr… https://t.co/rXZdhARWAR\n",
      "---------------------------------\n",
      "Hollande\n",
      "0.28\n",
      "Average score:  0.013358333333333338\n",
      "Max score:  0.38\n",
      "Min score:  -0.38\n",
      "Max tweet:  #PSG : PSG-OM: Louis et Pierre Sarkozy, frères complices face à Thomas Hollande in love https://t.co/IBtoBRZL27\n",
      "Min tweet:  RT @chesterfizz222: Celui qui a mis avec notre pays en lambeaux avec  Hollande veut rassembler? Ça devient grotesque à gauche. https://t.co…\n",
      "---------------------------------\n",
      "Sarkozy\n",
      "0.55\n",
      "Average score:  0.08660999999999996\n",
      "Max score:  1.0\n",
      "Min score:  -0.8\n",
      "Max tweet:  RT @SylvieGaillard: #Sarkozy!!... byebye!! plus jamais @NicolasSarkozy fini!!!! snifff! pour les #NS2017!!... pdr!!! https://t.co/49E8Ks9fod\n",
      "Min tweet:  Des \"Rois Maudits\" aux #ploucs maudits d'1 rumeur déstabilisatrice faisant tjrs dire à #Sarkozy n'importe quoi, quelle monarchie #Primaire ?\n",
      "---------------------------------\n",
      "Mélenchon\n",
      "0.44\n",
      "Average score:  0.07070583333333336\n",
      "Max score:  0.7\n",
      "Min score:  -1.0\n",
      "Max tweet:  RT @DEPld: Cet opportuniste s'approprie le programme de J.L Mélenchon alors que Ministre, il a été bon à rien sinon que singer pour faire p…\n",
      "Min tweet:  RT @bas60: Le clash Dartigolles Melenchon là c'est pathétique.\n",
      "---------------------------------\n",
      "Lepen\n",
      "0.32\n",
      "Average score:  0.03270583333333334\n",
      "Max score:  0.53\n",
      "Min score:  -0.4\n",
      "Max tweet:  Drôle 😀😀😀😀 #FN #Marine2017 #LePen https://t.co/watC3wrDHq\n",
      "Min tweet:  RT @Touffinologue: Halle Berry\n",
      "Paula Patton\n",
      "Gabrielle Union \n",
      "Meagan Good\n",
      "Lauren London\n",
      "Nicole Murphy \n",
      "Nia Long \n",
      "Christina Milian\n",
      "Marion Mar…\n",
      "---------------------------------\n",
      "Bayrou\n",
      "0.5\n",
      "Average score:  0.09399\n",
      "Max score:  0.7\n",
      "Min score:  -0.7\n",
      "Max tweet:  RT @LucileHoudin: François Bayrou : «Si Sarkozy avait été un bon Président, il aurait été réélu» https://t.co/RmN8VKEro7\n",
      "Min tweet:  RT @Anarchozy: le mal délavé @ericwoerth https://t.co/h1FfN8Mc0F optimiseur fiscal https://t.co/Yb9cA23hBn\n",
      "@NicolasSarkozy @francoisbaroin…\n",
      "---------------------------------\n",
      "Duflot\n",
      "0.39\n",
      "Average score:  0.07594404761904765\n",
      "Max score:  1.0\n",
      "Min score:  -0.5\n",
      "Max tweet:  @7_duflot @brebiche632 coool continue jeudi jviens pas et la il te fera la gl ♥\n",
      "Min tweet:  @7_duflot impossible insulte le pas de sheitan\n",
      "---------------------------------\n",
      "Copé\n",
      "0.18\n",
      "Average score:  0.032912500000000004\n",
      "Max score:  1.0\n",
      "Min score:  -0.7\n",
      "Max tweet:  @Thismaa_ @jf_cope guemines c'est plus beau 😂😂\n",
      "Min tweet:  Me re cope con una banda coreana. Hacen pirar\n",
      "---------------------------------\n",
      "Lesquen\n",
      "0.36\n",
      "Average score:  0.02296375\n",
      "Max score:  0.7\n",
      "Min score:  -1.0\n",
      "Max tweet:  @AzartyWD @RenaudCamus Ce type reçu par Henry de Lesquen sur radio courtoisie...comment dire...qui se ressemble... j'ai bon?\n",
      "Min tweet:  @PierreL8775 on pense ce qu'on veut de Lesquen mais l'attitude d'Eugenie Bastie est pour le moins scandaleuse !\n",
      "---------------------------------\n"
     ]
    }
   ],
   "source": [
    "for candidate in candidates_list:\n",
    "    data = get_tweets(candidate, 100)\n",
    "    print(candidate)\n",
    "    ratio = len(data[data.Sentiment == 'Positive']) / len(data)\n",
    "    print(ratio)\n",
    "    average = data.Figure.mean()\n",
    "    maxi = data.Figure.max()\n",
    "    tweet_max = data[data.Figure == maxi].Tweet.tolist()[0]\n",
    "    mini = data.Figure.min()\n",
    "    tweet_min = data[data.Figure == mini].Tweet.tolist()[0]\n",
    "    print(\"Average score: \", average)\n",
    "    print(\"Max score: \", maxi)\n",
    "    print(\"Min score: \", mini)\n",
    "    print(\"Max tweet: \", tweet_max)\n",
    "    print(\"Min tweet: \", tweet_min)\n",
    "    print('---------------------------------')"
   ]
  },
  {
   "cell_type": "markdown",
   "metadata": {},
   "source": [
    "#### Now, let's return the top N positive tweets and top N negative tweets"
   ]
  },
  {
   "cell_type": "code",
   "execution_count": 121,
   "metadata": {
    "collapsed": true
   },
   "outputs": [],
   "source": [
    "## Provide starting and final dates\n",
    "since_date = \"2016-10-15\"\n",
    "until_date = \"2016-10-25\"\n",
    "\n",
    "def top_tweets(query, count, N):\n",
    "    \n",
    "    public_tweets = api.search(query, count = count, since = since_date, until = until_date)\n",
    "\n",
    "    polarity = []\n",
    "    result = []\n",
    "    for tweet in public_tweets:\n",
    "        #print(tweet.text)\n",
    "        analysis = TextBlob(tweet.text, pos_tagger=PatternTagger()\n",
    "                            , analyzer=PatternAnalyzer())\n",
    "        polarity.append(analysis.sentiment[0])\n",
    "        result.append([tweet.text, get_label(analysis), analysis.sentiment[0]])\n",
    "    result = pd.DataFrame(result, columns = ['Tweet', 'Sentiment', 'Figure'])\n",
    "    result = result.sort('Figure', ascending = False)\n",
    "    top_N = result.Tweet[:N]\n",
    "    bottom_N = result.Tweet[-N:]\n",
    "    return top_N.tolist(), bottom_N.tolist()"
   ]
  },
  {
   "cell_type": "code",
   "execution_count": 122,
   "metadata": {
    "collapsed": false
   },
   "outputs": [
    {
     "name": "stderr",
     "output_type": "stream",
     "text": [
      "C:\\Users\\Peter martigny\\Anaconda3\\lib\\site-packages\\ipykernel\\__main__.py:18: FutureWarning: sort(columns=....) is deprecated, use sort_values(by=.....)\n"
     ]
    },
    {
     "name": "stdout",
     "output_type": "stream",
     "text": [
      "Macron\n",
      "Postive tweets:  [\"Avoir de l'empathie c'est la plus belle marque d'intelligence ce qu'est dénué le #FN #Hollande #Valls #Macron #Sarkozy #cope #Cazeneuve\", \"Excellent Emmanuel Macron sur l'identité de notre pays!! https://t.co/09IKhJ6bRs\", \"RT @AGMarquet: Purée en première lecture j'avais compris #LaVacheQuiRit 😂😂😂 ! https://t.co/gi8DRZWsWI\", 'PtitConDe @EmmanuelMacron https://t.co/lLdx2j98jW va en + leur piquer des électeurs/moutons :-) \\n@IsabelleForger @NicolasSarkozy @bayrou', 'RT @Votre_Pere: De nouveaux autocars Macron sont mis en service à #Calais ... https://t.co/TSSKW7otzv', '@souriaalep @russeurope Eh oui on ne veut pas de hollande alors on tt faire sur macron ou Vlalls!! Ils forts nos élites !!', 'RT @jccambadelis: Un rassemblement de Hamon à Macron, ce serait intéressant dans la perspective de la #présidentielle2017 . #primaire #inte…', \"RT @LaurencePache: Merci Mr #Vidalies, pour l'ouverture à la concurrence des #TER, pour l'augmentation des péages autoroutiers, pour les ca…\", \"RT @LaurencePache: Merci Mr #Vidalies, pour l'ouverture à la concurrence des #TER, pour l'augmentation des péages autoroutiers, pour les ca…\", \"RT @LaurencePache: Merci Mr #Vidalies, pour l'ouverture à la concurrence des #TER, pour l'augmentation des péages autoroutiers, pour les ca…\"]\n",
      "Negative tweets:  ['\"il a un côté pipoteur c\\'est indéniable\" un journaliste à propos de Macron ... évidemment il n\\'a pas fait scpo pour rien 😅', '@SoMabrouk @publicsenat #OVPL je me demande qui de Hollande ou de Macron va faire perdre le gauche ...', '@SoeurCoquine @PhilippeLoheac Macron ne pourra jamais prendre des voix à la gauche de la gauche', \"Des sondages qui montrent que Macron n'était qu'un trouble-fête éphémère, aux idées obscures, et avec un égo démesu… https://t.co/BaQQML9e6q\", 'Emmanuel macron cest un faux charismatique je ne donne pas ma voix à un non pragmatique', 'Coup de froid dans les sondages : le glas a-t-il déjà sonné pour Emmanuel Macron ? | Atlantico.fr https://t.co/0uXMeSNODd via @po_st', 'RT @michelam64: Coup de froid dans les sondages : le glas a-t-il déjà sonné pour Emmanuel Macron ? | Atlantico.fr https://t.co/0uXMeSNODd v…', \"@linsoumis_fr @pierrejovanovic @FredericSays Alors la gauche a définitivement perdu !!! Après le mou, c'est le faux homme de gauche Macron!\", '@JeudyBruno @LeaSalame @lobs @franceinter et la voilà qui fait de la pub pour Macron, une vrai sangsue! opportuniste, imbécile de service', \"Après les cars #Macron, voici les cars #Cazeneuve.\\nMoi qui prenais #Hollande pour la moitié d'un imbécile, je me tr… https://t.co/rXZdhARWAR\"]\n",
      "---------------------------------\n",
      "Hollande\n",
      "Postive tweets:  ['#PSG : PSG-OM: Louis et Pierre Sarkozy, frères complices face à Thomas Hollande in love https://t.co/IBtoBRZL27', \"🔴il y a Que En #France sous #Hollande q'on vous fait gober tout! LE mec é indeprogramable Farid #Benyettou #Kouachi https://t.co/ZK5vDe1v7h\", \"RT @ntwolfmother: 🔴il y a Que En #France sous #Hollande q'on vous fait gober tout! LE mec é indeprogramable Farid #Benyettou #Kouachi https…\", 'RT @johndoefr1: Hollande est trop fort\\n#Cope https://t.co/RWoa5WkT6I', \"RT @democratie2012_: Sous l'impulsion du Président #Hollande la 🇫🇷 est l'un des pays ou le plus de #startup ont été créées ! #BPI #Innovati…\", \"RT @democratie2012_: Sous l'impulsion du Président #Hollande la 🇫🇷 est l'un des pays ou le plus de #startup ont été créées ! #BPI #Innovati…\", 'Plus personne ne soutient François Hollande sauf... Christiane Taubira ! https://t.co/C5KUbdcxZP', \"Libé h-série sur Obama. Bilan globalement négatif. 1/2 page sur Obamacare. Plus sur sa com' Espérons qu'ils n'aient… https://t.co/szs6Sz0sso\", \"RT @sympl: ca fait plus d'un mois que chirac est mort et hollande ne se décide toujours pas à l'annoncer\", \"Valls prêt à remplacer Hollande : revoir l'analyse d'Alain Soral https://t.co/yPET7RbQqA via @EetR_National\"]\n",
      "Negative tweets:  ['Choix de Valls par Cambadélis n’est pas utile politiquement ni à une échéance électorale où le candidat potentiel y est déjà. Mr.Hollande .', '@CihanMKDE @Kimyongur le seul crime de hollande, c que cet pâte de fruit ait accès au code de la bombe nucléaire', 'La géopolitique du moyen orient expliquée à Hollande, Fabius et autres imposteurs qui nous gouvernent https://t.co/zk7Q00FvFR', \"RT @Lindsay_Demarez: Pourquoi ils mettent pas les migrants chez hollande ? On va voir déjà qu'il supporte pas des gens de classe moyenne co…\", \"RT @FrancoisFillon: F. Hollande est paralysé, incapable de trancher sur des sujets majeurs, c'est une situation inédite sous la Vème Républ…\", 'RT @chesterfizz222: Il devient dangereux de confier notre politique étrangère à Messieurs Hollande et Ayrault.\\n@LellouchePierre @ThierryMAR…', \"RT @AMORGOS96: Bel hommage et reconnaissance ! C'est l'homme qu'il faut à la France complètement désespérée après 5ans de Hollande  https:/…\", \"RT @MARDLLO: François Hollande qui fait coucou a une athlète aveugle, je vous dis notre président c'est le meilleur💘\", \"@MouniraDC Warren est autant anti -capitaliste que Hollande est l'ennemi de la finance.\", 'RT @chesterfizz222: Celui qui a mis avec notre pays en lambeaux avec  Hollande veut rassembler? Ça devient grotesque à gauche. https://t.co…']\n",
      "---------------------------------\n",
      "Sarkozy\n",
      "Postive tweets:  ['RT @SylvieGaillard: #Sarkozy!!... byebye!! plus jamais @NicolasSarkozy fini!!!! snifff! pour les #NS2017!!... pdr!!! https://t.co/49E8Ks9fod', 'RT @LucileHoudin: François Bayrou : «Si Sarkozy avait été un bon Président, il aurait été réélu» https://t.co/RmN8VKEro7', 'RT @piwowarchuck: @DominiqueLUNEL \\nNicolas Sarkozy à #CaVous :\\nredoutablement sympathique\\nà ne manquer sous aucun prétexte', 'RT @libe: Helena Noguerra : «Non, monsieur Sarkozy, les femmes n’ont pas toujours été libres en France !» #PetitRappel https://t.co/WyFiaLQ…', \"RT @bayrou: Si Nicolas #Sarkozy avait été un bon Président, il aurait été réélu en 2012. Sa façon de gouverner et ses méthodes l'ont disqua…\", '#PSG : PSG-OM: Louis et Pierre Sarkozy, frères complices face à Thomas Hollande in love https://t.co/IBtoBRZL27', 'RT @NathalieLevyNC: .@pierrecharon (LR): \"Bayrou est le responsable de l\\'échec de Nicolas Sarkozy en 2012.\" @BFMTV https://t.co/WIHSHgeMTY', 'RT @NathalieLevyNC: .@pierrecharon (LR): \"Bayrou est le responsable de l\\'échec de Nicolas Sarkozy en 2012.\" @BFMTV https://t.co/WIHSHgeMTY', 'RT @NathalieLevyNC: .@pierrecharon (LR): \"Bayrou est le responsable de l\\'échec de Nicolas Sarkozy en 2012.\" @BFMTV https://t.co/WIHSHgeMTY', 'RT @NathalieLevyNC: .@pierrecharon (LR): \"Bayrou est le responsable de l\\'échec de Nicolas Sarkozy en 2012.\" @BFMTV https://t.co/WIHSHgeMTY']\n",
      "Negative tweets:  ['RT @nouslesjeunes95: Nicolas Sarkozy : \"Il ne faut penser qu\\'à une seule chose: se faire comprendre des gens à qui l\\'on parle.\" #CàVousNS #…', 'RT @les_repliques: Nicolas Sarkozy a une relation particulière avec la France. https://t.co/HYf7JajkdY', '#SONDAGE. \"Les électeurs de gauche instrumentalisent #Juppé pour éliminer #Sarkozy\" - L\\'Obs https://t.co/Yy06akxRXz', 'RT @rennmaxx: #SONDAGE. \"Les électeurs de gauche instrumentalisent #Juppé pour éliminer #Sarkozy\" - L\\'Obs https://t.co/Yy06akxRXz', 'SONDAGE. \"Les électeurs de #gauche instrumentalisent #Juppé pour éliminer #Sarkozy\" https://t.co/we5KBSnb5C via @LObs', 'RT @teppdude: SONDAGE. \"Les électeurs de #gauche instrumentalisent #Juppé pour éliminer #Sarkozy\" https://t.co/we5KBSnb5C via @LObs', \"RT @AMORGOS96: Bel hommage et reconnaissance ! C'est l'homme qu'il faut à la France complètement désespérée après 5ans de Hollande  https:/…\", 'RT @gtnpllt: C\\'est vrai que #Sarkozy n\\'a jamais dit \"casse toi pov\\' con\" alors #ploucs ça paraît totalement invraisemblable. https://t.co/r…', 'RT @kendricklamour: On sfout de la gueule des ricains avec Trump et Clinton mais quand ça sera notre tour avec une finale Le Pen Sarkozy on…', 'Des \"Rois Maudits\" aux #ploucs maudits d\\'1 rumeur déstabilisatrice faisant tjrs dire à #Sarkozy n\\'importe quoi, quelle monarchie #Primaire ?']\n",
      "---------------------------------\n",
      "Mélenchon\n",
      "Postive tweets:  [\"RT @DEPld: Cet opportuniste s'approprie le programme de J.L Mélenchon alors que Ministre, il a été bon à rien sinon que singer pour faire p…\", \"RT @DEPld: Cet opportuniste s'approprie le programme de J.L Mélenchon alors que Ministre, il a été bon à rien sinon que singer pour faire p…\", \"RT @DEPld: Cet opportuniste s'approprie le programme de J.L Mélenchon alors que Ministre, il a été bon à rien sinon que singer pour faire p…\", \"RT @mortibus34: 2012 - #Mélenchon parle Culture. https://t.co/mf9yu9WZxf un régal. #PasEnvie que ça s'arrête #JLM2017\", \"2012 - #Mélenchon parle Culture. https://t.co/mf9yu9WZxf un régal. #PasEnvie que ça s'arrête #JLM2017\", \"MÉLENCHON - INTERVENTION À L'ONU au Conseil des Droits de l'Homme\\ntrès bonne analyse des multinationals.\\nhttps://t.co/cy1ag18ghG\", 'Mélenchon dégaine 1peu vite en parlant \"d\\'1soutien très clair\" du porte-parole du PCF à Montebourg - Le Lab Europe 1 https://t.co/SNikqso1un', 'RT @russeurope: Jean-Luc Mélenchon populiste https://t.co/FSPx8awtvZ via @sharethis De C. Barret. texte remarquable sur les contradictions…', 'RT @russeurope: Jean-Luc Mélenchon populiste https://t.co/FSPx8awtvZ via @sharethis De C. Barret. texte remarquable sur les contradictions…', 'RT @PourEnFinir: Remarquable intervention de justesse.\\n#melenchon \\nhttps://t.co/XSH1gFad6m']\n",
      "Negative tweets:  [\"RT @mamie_vs_orties: @milcendeauS @54Lilly Bah dsl,ms le PC qui suit Montebourg au lieu de Mélenchon, c'est qd m bien lamentable\\n\\nhttps://t…\", \"J'ai rêvé de Jean Luc Mélenchon ... je l’engueulais parce qu'il allait faire perdre la gauche ...\", 'RT @TouFouX_News: RT @LePG: [@JLMelenchon] : Intervention à l’ONU au Conseil des Droits de l’Homme https://t.co/HljIUBQVzm #PG #FDG #Mélenc…', '@DEPld Euh... Les magouilles je les vois plutôt côté Melenchon. Bizarre. @latacas28', \"RT @54Lilly: @leLab_E1 Vous vous appuyez sur un faux compte fb. Ce n'est pas celui de JL Melenchon.\", \"quel con ce journaleux , quelles khonneries dans ce meRdia  , à l'entendre on ne doit que baisser le froc , sans... https://t.co/qI2V5eLqvz\", \"RT @micmousse18: quel con ce journaleux , quelles khonneries dans ce meRdia  , à l'entendre on ne doit que baisser le froc , sans... https:…\", \"Le journal de BORIS VICTOR : JEAN -LUC MÉLENCHON - INTERVENTION À L'ONU au Cons... https://t.co/Y8uOVKeIHr\", \"RT @bas60: Le clash Dartigolles Melenchon là c'est pathétique.\", \"Le clash Dartigolles Melenchon là c'est pathétique.\"]\n",
      "---------------------------------\n",
      "Lepen\n",
      "Postive tweets:  ['Drôle 😀😀😀😀 #FN #Marine2017 #LePen https://t.co/watC3wrDHq', \"#Justice #IncitationALaHaineRaciale\\nLe #ParlementEuropéen se prononce mardi sur la levée d'immunité de JM #LePen \\n=&gt; https://t.co/iesiENrClL\", 'RT @HasniHedi: Ces Arabes  là, Marine Lepen les adore !! https://t.co/nRrCdQiYiS', \"RT @NegroIncompris: 12- Marine lepen super surcotée hein mais la ptite marion la jveux bien qu'elle me fouette avec ses fiches électorales\", \"RT @NegroIncompris: 12- Marine lepen super surcotée hein mais la ptite marion la jveux bien qu'elle me fouette avec ses fiches électorales\", \"@MPTOnlacherien Appeler à la démission de Valls pour le remplacer par Lepen ou Vauquiez, ça n'a rien d'une belle revendication, \\nsale beauf.\", \"RT @bif_o: Les demandes de levée d'immunité parlementaire se bousculent : après #LePen père, demain, le Parlement européen se penchera sur…\", \"RT @bif_o: Les demandes de levée d'immunité parlementaire se bousculent : après #LePen père, demain, le Parlement européen se penchera sur…\", \"RT @bif_o: Les demandes de levée d'immunité parlementaire se bousculent : après #LePen père, demain, le Parlement européen se penchera sur…\", \"RT @bif_o: Les demandes de levée d'immunité parlementaire se bousculent : après #LePen père, demain, le Parlement européen se penchera sur…\"]\n",
      "Negative tweets:  [\"Inchallah elle vote pour Lepen et son mec se fait virer d'ici, parce qu'il est un ptit peu portugais quand même.\", '@Sento_sama Je viens de la voir oui dommage par contre \"Marine Lepen est elle une D ? \" tu m\\'as achevé 😂', '@MonsieurVipere @linsoumis_fr non je condamne tous les partis contrairement à vs les fachos . Marine lepen est aussi corrompu que les autres', 'RT @CliveTwo: Ca prend une autre dimension...Marion...\\n\\nMarion Maréchal #lepen #fn #LaManifPourTous https://t.co/hpRIFEF76q', 'RT @CliveTwo: Ca prend une autre dimension...Marion...\\n\\nMarion Maréchal #lepen #fn #LaManifPourTous https://t.co/hpRIFEF76q', 'RT @CliveTwo: Ca prend une autre dimension...Marion...\\n\\nMarion Maréchal #lepen #fn #LaManifPourTous https://t.co/hpRIFEF76q', '@_KBAYLIA grv y serve a rien vive lepen', 'RT @ballsonthaya: Lamentable qu un syndicalisme s affiche avec @LaManifPourTous et @MM_LePen https://t.co/YWRorJRmPS', 'Halle Berry\\nPaula Patton\\nGabrielle Union \\nMeagan Good\\nLauren London\\nNicole Murphy \\nNia Long \\nChristina Milian\\nMario… https://t.co/sDTG4AJTii', 'RT @Touffinologue: Halle Berry\\nPaula Patton\\nGabrielle Union \\nMeagan Good\\nLauren London\\nNicole Murphy \\nNia Long \\nChristina Milian\\nMarion Mar…']\n",
      "---------------------------------\n",
      "Bayrou\n",
      "Postive tweets:  ['RT @LucileHoudin: François Bayrou : «Si Sarkozy avait été un bon Président, il aurait été réélu» https://t.co/RmN8VKEro7', \"le clan @NicolasSarkozy :-)\\n@francoisbaroin le sécheur de l'hémicycle du Sénat sauf le jour dePaie… https://t.co/aSLDoH6dht\", \"RT @Anarchozy: le clan @NicolasSarkozy :-)\\n@francoisbaroin le sécheur de l'hémicycle du Sénat sauf le jour dePaie https://t.co/SQ6LQiMPyl\\n@…\", 'RT @benoistapparu: une nuance entre @ECiotti et @cestrosi ? qui déclarait le 15/12/15 \"il faut organiser une cohésion solide avec le centre…', \"RT @fszpiner: La panique non!juste l'indignation de voir le complice de Hollande prétendre peser sur notre choix! https://t.co/3SJs2ELYKy\", 'RT @JJBourdin_RMC: \"Je n\\'irai pas voter à la primaire, car je suis libre\" assure @bayrou\\nà @JJBourdin_RMC #BourdinDirect https://t.co/URUXb…', 'RT @JJBourdin_RMC: \"Je n\\'irai pas voter à la primaire, car je suis libre\" assure @bayrou\\nà @JJBourdin_RMC #BourdinDirect https://t.co/URUXb…', 'RT @JJBourdin_RMC: Juppé: \"Il serait un bon président pour la FR, je le soutiendrai. Je ne fais pas ce choix pour mon intérêt personnel\" @b…', \"RT @vdandon: 165 sarkozystes attaquent @bayrou... prouvant aux militants centristes l'importance et le poids de leur leader ! Merci ! #165c…\", 'RT @NathalieLevyNC: .@pierrecharon (LR): \"Bayrou est le responsable de l\\'échec de Nicolas Sarkozy en 2012.\" @BFMTV https://t.co/WIHSHgeMTY']\n",
      "Negative tweets:  ['RT @bayrou: Appel de 165 élus sarkozystes contre mon entente avec A. #Juppé : Cela sent la panique ds les rangs ! ▶️ https://t.co/KkkjxySPd…', 'RT @SBrahimi1: A #165contre1 , la liberté de conscience dont la liberté de choisir est une valeur fondamentale de la République @bayrou @Mo…', 'Présidentielle : 165 sarkozystes dénoncent la stratégie politique de François Bayrou https://t.co/4QGnk0CgCs via @franceinfo', 'aussi dangereuse et déconnectée du monde réel\\n@IsabelleForger @EmmanuelMacron @NicolasSarkozy @bayrou', 'RT @RTLFrance: #RTLMatin : \"Nicolas Sarkozy dit que les profs travaillent 6 mois par an, c\\'est une déclaration insultante et insupportable\"…', 'Juppé reviendrait à faire revenir Bayrou  intentionnellement planté en 2012; B..QUI a  trompé trop de gens naïfs.Ce… https://t.co/cYccRuxZpF', '@ImmoBon  @bayrou un Roquet sans envergure UN raté fouteur de merde  les fesses entre 2 chaises qui se dit chrétien mais a La  HAINE tenace', 'RT @bayrou: Quand on en est à tirer les dernières cartouches comme cela, c’est que l’on se sent mal ▶️https://t.co/DLN0wHtqgM #165contre1 #…', 'RT @Anarchozy: le mal délavé @ericwoerth https://t.co/h1FfN8Mc0F optimiseur fiscal https://t.co/Yb9cA23hBn\\n@NicolasSarkozy @francoisbaroin…', 'le mal délavé @ericwoerth https://t.co/h1FfN8Mc0F optimiseur fiscal https://t.co/Yb9cA23hBn\\n@NicolasSarkozy @francoisbaroin @bayrou @Europe1']\n",
      "---------------------------------\n",
      "Duflot\n",
      "Postive tweets:  ['@7_duflot @brebiche632 coool continue jeudi jviens pas et la il te fera la gl ♥', \"une très bonne chose que Cécile Duflot qui a coulé l'immobilier en #France avec le blocage des loyers ne soit pas candidate #PartiPris #EELV\", \"l'échec de Duflot à la primaire #EELV n'est-elle pas un désaveu pour les élus de la métropole de #Grenoble favorables au blocage des loyers?\", '#primaireEELV   Des cadres proches de Duflot comme @DamienCAREME appellent a voter @yjadot ! https://t.co/NMGxUtOMfU', 'RT @Veillerette: #primaireEELV   Des cadres proches de Duflot comme @DamienCAREME appellent a voter @yjadot ! https://t.co/NMGxUtOMfU', 'RT @ManYanisgs59: Film de cul le nouveau call of😎😎', '#ecologie AccueilInfoInfo nationalePrimaire EELV. Des cadres proches de Duflot appellent à voter pour Jadot https://t.co/tvOUhv73h7', 'Primaire EELV. Des cadres proches de Duflot appellent à voter pour Jadot | via @ouestfrance : https://t.co/Tks8XQw6kH', 'Primaire EELV. Des cadres proches de Duflot appellent à voter pour Jadot https://t.co/EA9ZLqt67Z https://t.co/tApaoxfmOx', 'Primaire EELV. Des cadres proches de Duflot appellent à voter pour Jadot https://t.co/qpsQ0R34Y7 https://t.co/92SCmqnzKZ']\n",
      "Negative tweets:  ['RT @CanteloupOff: \"Jetée dans la poubelle verte, Cécile Duflot n’a d’autre choix que de se recycler\" https://t.co/JySCQPiFKc #Europe1', 'RT @CanteloupOff: \"Jetée dans la poubelle verte, Cécile Duflot n’a d’autre choix que de se recycler\" https://t.co/JySCQPiFKc #Europe1', 'RT @CanteloupOff: \"Jetée dans la poubelle verte, Cécile Duflot n’a d’autre choix que de se recycler\" https://t.co/JySCQPiFKc #Europe1', 'RT @coucou564: #LRDP #JMailhot \\n\\n#Duflot : \"Grâce à sa loi Alur, elle a mm réussi à faire des écon. de papier, vu que les actes de ventes o…', 'RT @coucou564: #LRDP #JMailhot \\n\\n#Duflot : \"Grâce à sa loi Alur, elle a mm réussi à faire des écon. de papier, vu que les actes de ventes o…', '#LRDP #JMailhot \\n\\n#Duflot : \"Grâce à sa loi Alur, elle a mm réussi à faire des écon. de papier, vu que les actes de ventes ont été stoppés\"', 'RT @TheWhoodini: Cassé Cecile Duflot.\\nÇa farte Jean-François Copé ?\\n😂😂😂\\n#Quotidien', \"Pourquoi Cécile Duflot à t-elle perdu de cette faço... — Parce que les Verts auraient trouvés l'élection pré... https://t.co/8HBct9QBaX\", \"#Duflot risque d'accuser Cohn Bendit d'Hollandolâtre aveugle .  https://t.co/AkgpRAt7Tp\", '@7_duflot impossible insulte le pas de sheitan']\n",
      "---------------------------------\n",
      "Copé\n",
      "Postive tweets:  [\"RT @Bufalo_officiel: D'après Copé u ciarbellone une voiture coûte 500€\\nVai chì dopu meziornu aghju da strangulà u scruccò di Rognoni ! Hà d…\", \"@Thismaa_ @jf_cope guemines c'est plus beau 😂😂\", \"RT @jbdba: Ahah Sixt plus rapide que l'éclair ! #Copé #CopeDecale https://t.co/sGWPFyYbIC\", 'Je suis trop friand de vos bons mots sur cette incroyable histoire avec Jean-François Copé et ses pains au chocolat.Trop des barres. Encore!', 'RT @MarianneleMag: Quand Copé, grand expert du pain au chocolat, évalue son prix à \"10 ou 15 centimes\" https://t.co/UnJP2hFfm7 https://t.co…', 'RT @Youhouh: Monsieur #Copé à votre avis le smic combien ? \"Ohhh je dirais 3500€ net environ\" https://t.co/QzXcujYR4P', 'RT @CgtBj: Voilà NKM, M,Copé et Juppé vous voulez les taxis  s\\'adapter à l\\'esclavagisme par votre amour à \"UBER \" d\\'après tout vs \"LES RÉPU…', 'RT @Valolic_: Un peu facile de cracher sur Copé et le prix des pains aux chocolats, tu sais comment financer une campagne électorale illéga…', \"RT @StephanTroussel: #Copé : la droite qui ne connaît pas le prix d'un pain au chocolat mais qui considère qu'avec 524€/mois un allocataire…\", 'RT @BreizhOfficiel: Pensée émue pour toutes les boulanger(e)s qui demain vont subir 700 fois la vanne:\"Un pain au chocolat SVP. Ah c\\'est pa…']\n",
      "Negative tweets:  [\"Maybe things don't actually get better, you just learn to cope\", '@leconquiosetout @Europe1 @jf_cope @TitanNisme', 'RT @Europe1: Combien coûte un pain au chocolat ? Réponse de @jf_cope : \"Aux alentours de 15 à 20 centimes d\\'euros, non ?\" #E1Copé https://t…', 'RT @Europe1: Combien coûte un pain au chocolat ? Réponse de @jf_cope : \"Aux alentours de 15 à 20 centimes d\\'euros, non ?\" #E1Copé https://t…', 'RT @Europe1: Combien coûte un pain au chocolat ? Réponse de @jf_cope : \"Aux alentours de 15 à 20 centimes d\\'euros, non ?\" #E1Copé https://t…', \"RT @sagheerosman: Liverpool fans having lots of fun with United's troubles, we'll see how well you cope when the games come thick and fast…\", \"@SamirAsm7 @jf_cope mais y'a plus d'arabes :/ mdrrr\", '#copédecale on peut avoir une villa sur Saint Trop avec copé pour seulement 1 € par jour', 'RT @leachou9: @dorudelabacau1 @tprincedelamour MDR et ça veut être President @jf_cope ? Honteux... #NS2017 #ToutPourLaFrance', 'Me re cope con una banda coreana. Hacen pirar']\n",
      "---------------------------------\n",
      "Lesquen\n",
      "Postive tweets:  [\"@AzartyWD @RenaudCamus Ce type reçu par Henry de Lesquen sur radio courtoisie...comment dire...qui se ressemble... j'ai bon?\", 'Beau copier-coller... A ce niveau là, de Lesquen n\\'est plus votre \"maître à penser\" mais prémâche carrément ce que… https://t.co/qCD6qXMIMq', '@legrosfromage @adia66 sérieux tu suis lesquen 😲', \"Programme du libre journal d'Henry de Lesquen de ce soir. https://t.co/uRuf7b2r4o\", 'RT @CrackLesquen: Quand tu débarques à Radio Courtoisie après les \"Soirées Crack\" organisées par Lesquen... #Lesquen2017 #Lesquen1817 https…', '@Courtoisix Content de t\\'avoir fait rire même si c\\'était pas le but mais le premier \"humour\" vient de Lesquen', 'RT @legrosfromage: Arrêtez de dire que Henry de Lesquen est raciste, il a un ami noir.\\n\\n#JurisprudenceMorano https://t.co/n2oKjmgvrv', \"@clementbaillon la principale activité de mon ado sur Twitter est de le troller, à chaque dîner j'ai debrief Lesquen :) @laflijan\", 'Ces canailles ne vous discréditeront pas à nos yeux M. Lesquen ! Vous avez tout notre soutien ! #DroitdeRéponse @Lesquen2017', 'RT @Nova153: Ces canailles ne vous discréditeront pas à nos yeux M. Lesquen ! Vous avez tout notre soutien ! #DroitdeRéponse @Lesquen2017']\n",
      "Negative tweets:  [\"@ivre_ensemble @hlesquen @radiocourtoisie obertone fut très bien,  lesquen pitoyable, j'ai d'ailleurs éteint la radio.\", \"RT @LaezhDour: Vous pouvez arrêter de RT de Lesquen putain tout le monde sait qu'il a un grain on a fait le tour du sujet là merde.\", \"Vous pouvez arrêter de RT de Lesquen putain tout le monde sait qu'il a un grain on a fait le tour du sujet là merde.\", \"RT @linsoumis_fr: '@Lesquen2017 @EugenieBastie @hlesquen Il ne fallait pas faire sombrer @radiocourtoisie avec vous... C'est indigne. https…\", \"@FrancoisFillon\\nL'élection de tarte molle fut la conclusion logique de l'ouverture à gauche de l'abominable Sarkozy.\\nhttps://t.co/3KP3t3Vruh\", \"@zouzoucat @TwitterFrance hélas... Ça s'appelle Henry de Lesquen.. Candidat aux présidentielles 2017 en France..\", \"Henry de Lesquen, je pensais que c'etait un fake tellement il dit de la merde! Je pensais pas que ça pouvait exister\", \"H. de Lesquen =&gt; Un résidu de fond de chiotte qui nous plonge chaque jour un peu plus ds l'horreur https://t.co/7nzRR7vWEG\", \"@PierreL8775 on pense ce qu'on veut de Lesquen mais l'attitude d'Eugenie Bastie est pour le moins scandaleuse !\", \"RT @MarianneleMag: Radio Courtoisie : les très mauvaises ondes d'Henry de Lesquen https://t.co/urXkFgjtSY https://t.co/8dLnasDHzh\"]\n",
      "---------------------------------\n"
     ]
    }
   ],
   "source": [
    "for candidate in candidates_list:\n",
    "    positives, negatives = top_tweets(candidate, 100, 10)\n",
    "    print(candidate)\n",
    "    print(\"Postive tweets: \", positives)\n",
    "    print(\"Negative tweets: \", negatives)\n",
    "    print('---------------------------------')"
   ]
  },
  {
   "cell_type": "code",
   "execution_count": null,
   "metadata": {
    "collapsed": true
   },
   "outputs": [],
   "source": []
  }
 ],
 "metadata": {
  "kernelspec": {
   "display_name": "Python [default]",
   "language": "python",
   "name": "python3"
  },
  "language_info": {
   "codemirror_mode": {
    "name": "ipython",
    "version": 3
   },
   "file_extension": ".py",
   "mimetype": "text/x-python",
   "name": "python",
   "nbconvert_exporter": "python",
   "pygments_lexer": "ipython3",
   "version": "3.5.2"
  }
 },
 "nbformat": 4,
 "nbformat_minor": 1
}
